{
 "cells": [
  {
   "cell_type": "code",
   "execution_count": 34,
   "metadata": {},
   "outputs": [],
   "source": [
    "import pandas as pd\n",
    "import numpy as np\n",
    "import matplotlib.pyplot as plt\n",
    "import matplotlib.colors as mcolors"
   ]
  },
  {
   "cell_type": "code",
   "execution_count": 2,
   "metadata": {},
   "outputs": [
    {
     "data": {
      "text/plain": "             date             home_team   away_team  home_score  away_score  \\\n45090  2023-10-17                Zambia      Uganda           3           0   \n45091  2023-10-17               Morocco     Liberia           3           0   \n45092  2023-10-17               England       Italy           3           1   \n45093  2023-10-17                 Malta     Ukraine           1           3   \n45094  2023-10-17                Serbia  Montenegro           3           1   \n45095  2023-10-17             Lithuania     Hungary           2           2   \n45096  2023-10-17               Finland  Kazakhstan           1           2   \n45097  2023-10-17      Northern Ireland    Slovenia           0           1   \n45098  2023-10-17            San Marino     Denmark           1           2   \n45099  2023-10-23  United Arab Emirates      Kuwait           1           0   \n\n                                 tournament        city               country  \\\n45090                              Friendly     Sharjah  United Arab Emirates   \n45091  African Cup of Nations qualification      Agadir               Morocco   \n45092               UEFA Euro qualification      London               England   \n45093               UEFA Euro qualification    Ta' Qali                 Malta   \n45094               UEFA Euro qualification    Belgrade                Serbia   \n45095               UEFA Euro qualification      Kaunas             Lithuania   \n45096               UEFA Euro qualification    Helsinki               Finland   \n45097               UEFA Euro qualification     Belfast      Northern Ireland   \n45098               UEFA Euro qualification  Serravalle            San Marino   \n45099                              Friendly       Dubai  United Arab Emirates   \n\n       neutral  \n45090     True  \n45091    False  \n45092    False  \n45093    False  \n45094    False  \n45095    False  \n45096    False  \n45097    False  \n45098    False  \n45099    False  ",
      "text/html": "<div>\n<style scoped>\n    .dataframe tbody tr th:only-of-type {\n        vertical-align: middle;\n    }\n\n    .dataframe tbody tr th {\n        vertical-align: top;\n    }\n\n    .dataframe thead th {\n        text-align: right;\n    }\n</style>\n<table border=\"1\" class=\"dataframe\">\n  <thead>\n    <tr style=\"text-align: right;\">\n      <th></th>\n      <th>date</th>\n      <th>home_team</th>\n      <th>away_team</th>\n      <th>home_score</th>\n      <th>away_score</th>\n      <th>tournament</th>\n      <th>city</th>\n      <th>country</th>\n      <th>neutral</th>\n    </tr>\n  </thead>\n  <tbody>\n    <tr>\n      <th>45090</th>\n      <td>2023-10-17</td>\n      <td>Zambia</td>\n      <td>Uganda</td>\n      <td>3</td>\n      <td>0</td>\n      <td>Friendly</td>\n      <td>Sharjah</td>\n      <td>United Arab Emirates</td>\n      <td>True</td>\n    </tr>\n    <tr>\n      <th>45091</th>\n      <td>2023-10-17</td>\n      <td>Morocco</td>\n      <td>Liberia</td>\n      <td>3</td>\n      <td>0</td>\n      <td>African Cup of Nations qualification</td>\n      <td>Agadir</td>\n      <td>Morocco</td>\n      <td>False</td>\n    </tr>\n    <tr>\n      <th>45092</th>\n      <td>2023-10-17</td>\n      <td>England</td>\n      <td>Italy</td>\n      <td>3</td>\n      <td>1</td>\n      <td>UEFA Euro qualification</td>\n      <td>London</td>\n      <td>England</td>\n      <td>False</td>\n    </tr>\n    <tr>\n      <th>45093</th>\n      <td>2023-10-17</td>\n      <td>Malta</td>\n      <td>Ukraine</td>\n      <td>1</td>\n      <td>3</td>\n      <td>UEFA Euro qualification</td>\n      <td>Ta' Qali</td>\n      <td>Malta</td>\n      <td>False</td>\n    </tr>\n    <tr>\n      <th>45094</th>\n      <td>2023-10-17</td>\n      <td>Serbia</td>\n      <td>Montenegro</td>\n      <td>3</td>\n      <td>1</td>\n      <td>UEFA Euro qualification</td>\n      <td>Belgrade</td>\n      <td>Serbia</td>\n      <td>False</td>\n    </tr>\n    <tr>\n      <th>45095</th>\n      <td>2023-10-17</td>\n      <td>Lithuania</td>\n      <td>Hungary</td>\n      <td>2</td>\n      <td>2</td>\n      <td>UEFA Euro qualification</td>\n      <td>Kaunas</td>\n      <td>Lithuania</td>\n      <td>False</td>\n    </tr>\n    <tr>\n      <th>45096</th>\n      <td>2023-10-17</td>\n      <td>Finland</td>\n      <td>Kazakhstan</td>\n      <td>1</td>\n      <td>2</td>\n      <td>UEFA Euro qualification</td>\n      <td>Helsinki</td>\n      <td>Finland</td>\n      <td>False</td>\n    </tr>\n    <tr>\n      <th>45097</th>\n      <td>2023-10-17</td>\n      <td>Northern Ireland</td>\n      <td>Slovenia</td>\n      <td>0</td>\n      <td>1</td>\n      <td>UEFA Euro qualification</td>\n      <td>Belfast</td>\n      <td>Northern Ireland</td>\n      <td>False</td>\n    </tr>\n    <tr>\n      <th>45098</th>\n      <td>2023-10-17</td>\n      <td>San Marino</td>\n      <td>Denmark</td>\n      <td>1</td>\n      <td>2</td>\n      <td>UEFA Euro qualification</td>\n      <td>Serravalle</td>\n      <td>San Marino</td>\n      <td>False</td>\n    </tr>\n    <tr>\n      <th>45099</th>\n      <td>2023-10-23</td>\n      <td>United Arab Emirates</td>\n      <td>Kuwait</td>\n      <td>1</td>\n      <td>0</td>\n      <td>Friendly</td>\n      <td>Dubai</td>\n      <td>United Arab Emirates</td>\n      <td>False</td>\n    </tr>\n  </tbody>\n</table>\n</div>"
     },
     "execution_count": 2,
     "metadata": {},
     "output_type": "execute_result"
    }
   ],
   "source": [
    "results = pd.read_csv('./data/results.csv')\n",
    "results.tail(10)"
   ]
  },
  {
   "cell_type": "code",
   "execution_count": 3,
   "metadata": {},
   "outputs": [],
   "source": [
    "home_games = results.loc[results['home_team'] == 'France']\n",
    "away_games = results.loc[results['away_team'] == 'France']\n",
    "\n"
   ]
  },
  {
   "cell_type": "code",
   "execution_count": 4,
   "metadata": {},
   "outputs": [],
   "source": [
    "\"\"\"\n",
    "Adding year as a column\n",
    "\"\"\"\n",
    "results['year'] = results['date'].apply(lambda x:int(x.split('-')[0]))"
   ]
  },
  {
   "cell_type": "code",
   "execution_count": 5,
   "metadata": {},
   "outputs": [],
   "source": [
    "\"\"\"\n",
    "Adding winner as a column\n",
    "\"\"\"\n",
    "\n",
    "results.loc[results.home_score > results.away_score, 'winner'] = results.home_team\n",
    "results.loc[results.home_score < results.away_score, 'winner'] = results.away_team\n",
    "results.loc[results.home_score == results.away_score, 'winner'] = 'Draw'"
   ]
  },
  {
   "cell_type": "code",
   "execution_count": 6,
   "metadata": {},
   "outputs": [
    {
     "data": {
      "text/plain": "             date             home_team   away_team  home_score  away_score  \\\n0      1872-11-30              Scotland     England           0           0   \n1      1873-03-08               England    Scotland           4           2   \n2      1874-03-07              Scotland     England           2           1   \n3      1875-03-06               England    Scotland           2           2   \n4      1876-03-04              Scotland     England           3           0   \n...           ...                   ...         ...         ...         ...   \n45095  2023-10-17             Lithuania     Hungary           2           2   \n45096  2023-10-17               Finland  Kazakhstan           1           2   \n45097  2023-10-17      Northern Ireland    Slovenia           0           1   \n45098  2023-10-17            San Marino     Denmark           1           2   \n45099  2023-10-23  United Arab Emirates      Kuwait           1           0   \n\n                    tournament        city               country  neutral  \\\n0                     Friendly     Glasgow              Scotland    False   \n1                     Friendly      London               England    False   \n2                     Friendly     Glasgow              Scotland    False   \n3                     Friendly      London               England    False   \n4                     Friendly     Glasgow              Scotland    False   \n...                        ...         ...                   ...      ...   \n45095  UEFA Euro qualification      Kaunas             Lithuania    False   \n45096  UEFA Euro qualification    Helsinki               Finland    False   \n45097  UEFA Euro qualification     Belfast      Northern Ireland    False   \n45098  UEFA Euro qualification  Serravalle            San Marino    False   \n45099                 Friendly       Dubai  United Arab Emirates    False   \n\n       year                winner  \n0      1872                  Draw  \n1      1873               England  \n2      1874              Scotland  \n3      1875                  Draw  \n4      1876              Scotland  \n...     ...                   ...  \n45095  2023                  Draw  \n45096  2023            Kazakhstan  \n45097  2023              Slovenia  \n45098  2023               Denmark  \n45099  2023  United Arab Emirates  \n\n[45100 rows x 11 columns]",
      "text/html": "<div>\n<style scoped>\n    .dataframe tbody tr th:only-of-type {\n        vertical-align: middle;\n    }\n\n    .dataframe tbody tr th {\n        vertical-align: top;\n    }\n\n    .dataframe thead th {\n        text-align: right;\n    }\n</style>\n<table border=\"1\" class=\"dataframe\">\n  <thead>\n    <tr style=\"text-align: right;\">\n      <th></th>\n      <th>date</th>\n      <th>home_team</th>\n      <th>away_team</th>\n      <th>home_score</th>\n      <th>away_score</th>\n      <th>tournament</th>\n      <th>city</th>\n      <th>country</th>\n      <th>neutral</th>\n      <th>year</th>\n      <th>winner</th>\n    </tr>\n  </thead>\n  <tbody>\n    <tr>\n      <th>0</th>\n      <td>1872-11-30</td>\n      <td>Scotland</td>\n      <td>England</td>\n      <td>0</td>\n      <td>0</td>\n      <td>Friendly</td>\n      <td>Glasgow</td>\n      <td>Scotland</td>\n      <td>False</td>\n      <td>1872</td>\n      <td>Draw</td>\n    </tr>\n    <tr>\n      <th>1</th>\n      <td>1873-03-08</td>\n      <td>England</td>\n      <td>Scotland</td>\n      <td>4</td>\n      <td>2</td>\n      <td>Friendly</td>\n      <td>London</td>\n      <td>England</td>\n      <td>False</td>\n      <td>1873</td>\n      <td>England</td>\n    </tr>\n    <tr>\n      <th>2</th>\n      <td>1874-03-07</td>\n      <td>Scotland</td>\n      <td>England</td>\n      <td>2</td>\n      <td>1</td>\n      <td>Friendly</td>\n      <td>Glasgow</td>\n      <td>Scotland</td>\n      <td>False</td>\n      <td>1874</td>\n      <td>Scotland</td>\n    </tr>\n    <tr>\n      <th>3</th>\n      <td>1875-03-06</td>\n      <td>England</td>\n      <td>Scotland</td>\n      <td>2</td>\n      <td>2</td>\n      <td>Friendly</td>\n      <td>London</td>\n      <td>England</td>\n      <td>False</td>\n      <td>1875</td>\n      <td>Draw</td>\n    </tr>\n    <tr>\n      <th>4</th>\n      <td>1876-03-04</td>\n      <td>Scotland</td>\n      <td>England</td>\n      <td>3</td>\n      <td>0</td>\n      <td>Friendly</td>\n      <td>Glasgow</td>\n      <td>Scotland</td>\n      <td>False</td>\n      <td>1876</td>\n      <td>Scotland</td>\n    </tr>\n    <tr>\n      <th>...</th>\n      <td>...</td>\n      <td>...</td>\n      <td>...</td>\n      <td>...</td>\n      <td>...</td>\n      <td>...</td>\n      <td>...</td>\n      <td>...</td>\n      <td>...</td>\n      <td>...</td>\n      <td>...</td>\n    </tr>\n    <tr>\n      <th>45095</th>\n      <td>2023-10-17</td>\n      <td>Lithuania</td>\n      <td>Hungary</td>\n      <td>2</td>\n      <td>2</td>\n      <td>UEFA Euro qualification</td>\n      <td>Kaunas</td>\n      <td>Lithuania</td>\n      <td>False</td>\n      <td>2023</td>\n      <td>Draw</td>\n    </tr>\n    <tr>\n      <th>45096</th>\n      <td>2023-10-17</td>\n      <td>Finland</td>\n      <td>Kazakhstan</td>\n      <td>1</td>\n      <td>2</td>\n      <td>UEFA Euro qualification</td>\n      <td>Helsinki</td>\n      <td>Finland</td>\n      <td>False</td>\n      <td>2023</td>\n      <td>Kazakhstan</td>\n    </tr>\n    <tr>\n      <th>45097</th>\n      <td>2023-10-17</td>\n      <td>Northern Ireland</td>\n      <td>Slovenia</td>\n      <td>0</td>\n      <td>1</td>\n      <td>UEFA Euro qualification</td>\n      <td>Belfast</td>\n      <td>Northern Ireland</td>\n      <td>False</td>\n      <td>2023</td>\n      <td>Slovenia</td>\n    </tr>\n    <tr>\n      <th>45098</th>\n      <td>2023-10-17</td>\n      <td>San Marino</td>\n      <td>Denmark</td>\n      <td>1</td>\n      <td>2</td>\n      <td>UEFA Euro qualification</td>\n      <td>Serravalle</td>\n      <td>San Marino</td>\n      <td>False</td>\n      <td>2023</td>\n      <td>Denmark</td>\n    </tr>\n    <tr>\n      <th>45099</th>\n      <td>2023-10-23</td>\n      <td>United Arab Emirates</td>\n      <td>Kuwait</td>\n      <td>1</td>\n      <td>0</td>\n      <td>Friendly</td>\n      <td>Dubai</td>\n      <td>United Arab Emirates</td>\n      <td>False</td>\n      <td>2023</td>\n      <td>United Arab Emirates</td>\n    </tr>\n  </tbody>\n</table>\n<p>45100 rows × 11 columns</p>\n</div>"
     },
     "execution_count": 6,
     "metadata": {},
     "output_type": "execute_result"
    }
   ],
   "source": [
    "results"
   ]
  },
  {
   "cell_type": "code",
   "execution_count": 7,
   "metadata": {},
   "outputs": [
    {
     "name": "stdout",
     "output_type": "stream",
     "text": [
      "0.47368421052631576\n"
     ]
    }
   ],
   "source": [
    "\"\"\"\n",
    "Getting number of game and won game for a country since a certain year\n",
    "\"\"\"\n",
    "\n",
    "def win_percentage(team, since):\n",
    "    home_games = results.loc[(results['home_team'] == team) & (results['year'] >= since)]\n",
    "    away_games = results.loc[(results['away_team'] == team) & (results['year'] >= since)]\n",
    "\n",
    "    won_home = len(home_games.loc[home_games['home_score'] > home_games['away_score']])\n",
    "    won_away = len(away_games.loc[away_games['away_score'] > away_games['home_score']])\n",
    "    \n",
    "    \n",
    "    total_games = len(home_games) + len(away_games)\n",
    "\n",
    "    if(total_games == 0):\n",
    "        return 0\n",
    "\n",
    "    p_win = (won_away + won_home) / total_games\n",
    "\n",
    "    return p_win\n",
    "\n",
    "team = 'Italy'\n",
    "since = 2022\n",
    "\n",
    "print(win_percentage(team, since))"
   ]
  },
  {
   "cell_type": "code",
   "execution_count": 8,
   "metadata": {},
   "outputs": [
    {
     "name": "stdout",
     "output_type": "stream",
     "text": [
      "4\n",
      "4\n"
     ]
    },
    {
     "data": {
      "text/plain": "             date home_team    away_team  home_score  away_score  \\\n27785  2005-03-26    France  Switzerland           0           0   \n28750  2006-06-13    France  Switzerland           0           0   \n38571  2016-06-19    France  Switzerland           0           0   \n42832  2021-06-28    France  Switzerland           3           3   \n\n                         tournament               city  country  neutral  \\\n27785  FIFA World Cup qualification        Saint-Denis   France    False   \n28750                FIFA World Cup          Stuttgart  Germany     True   \n38571                     UEFA Euro  Villeneuve-d'Ascq   France    False   \n42832                     UEFA Euro          Bucharest  Romania     True   \n\n       year winner  \n27785  2005   Draw  \n28750  2006   Draw  \n38571  2016   Draw  \n42832  2021   Draw  ",
      "text/html": "<div>\n<style scoped>\n    .dataframe tbody tr th:only-of-type {\n        vertical-align: middle;\n    }\n\n    .dataframe tbody tr th {\n        vertical-align: top;\n    }\n\n    .dataframe thead th {\n        text-align: right;\n    }\n</style>\n<table border=\"1\" class=\"dataframe\">\n  <thead>\n    <tr style=\"text-align: right;\">\n      <th></th>\n      <th>date</th>\n      <th>home_team</th>\n      <th>away_team</th>\n      <th>home_score</th>\n      <th>away_score</th>\n      <th>tournament</th>\n      <th>city</th>\n      <th>country</th>\n      <th>neutral</th>\n      <th>year</th>\n      <th>winner</th>\n    </tr>\n  </thead>\n  <tbody>\n    <tr>\n      <th>27785</th>\n      <td>2005-03-26</td>\n      <td>France</td>\n      <td>Switzerland</td>\n      <td>0</td>\n      <td>0</td>\n      <td>FIFA World Cup qualification</td>\n      <td>Saint-Denis</td>\n      <td>France</td>\n      <td>False</td>\n      <td>2005</td>\n      <td>Draw</td>\n    </tr>\n    <tr>\n      <th>28750</th>\n      <td>2006-06-13</td>\n      <td>France</td>\n      <td>Switzerland</td>\n      <td>0</td>\n      <td>0</td>\n      <td>FIFA World Cup</td>\n      <td>Stuttgart</td>\n      <td>Germany</td>\n      <td>True</td>\n      <td>2006</td>\n      <td>Draw</td>\n    </tr>\n    <tr>\n      <th>38571</th>\n      <td>2016-06-19</td>\n      <td>France</td>\n      <td>Switzerland</td>\n      <td>0</td>\n      <td>0</td>\n      <td>UEFA Euro</td>\n      <td>Villeneuve-d'Ascq</td>\n      <td>France</td>\n      <td>False</td>\n      <td>2016</td>\n      <td>Draw</td>\n    </tr>\n    <tr>\n      <th>42832</th>\n      <td>2021-06-28</td>\n      <td>France</td>\n      <td>Switzerland</td>\n      <td>3</td>\n      <td>3</td>\n      <td>UEFA Euro</td>\n      <td>Bucharest</td>\n      <td>Romania</td>\n      <td>True</td>\n      <td>2021</td>\n      <td>Draw</td>\n    </tr>\n  </tbody>\n</table>\n</div>"
     },
     "execution_count": 8,
     "metadata": {},
     "output_type": "execute_result"
    }
   ],
   "source": [
    "\"\"\"\n",
    "Getting percentage of won game between 2 teams\n",
    "\"\"\"\n",
    "\n",
    "team_a = 'France'\n",
    "team_b = 'Switzerland'\n",
    "\n",
    "home_games = results.loc[(results['home_team'] == team_a) & (results['away_team'] == team_b) & (results['year'] > 2000)]\n",
    "away_games = results.loc[(results['away_team'] == team_a) & (results['home_team'] == team_b) & (results['year'] > 2000)]\n",
    "\n",
    "print(len(home_games))\n",
    "print(len(away_games))\n",
    "\n",
    "away_games.head()\n",
    "home_games.head()\n"
   ]
  },
  {
   "cell_type": "code",
   "execution_count": 9,
   "metadata": {},
   "outputs": [
    {
     "data": {
      "text/plain": "(array([16.,  1.,  0.,  0.,  0.,  0.,  0.,  0.,  0.,  1.,  1.,  0.,  0.,\n         1.,  2.,  1.,  0.,  1.,  1.,  0.,  0.,  1.,  1.,  1.,  0.,  1.,\n         0.,  0.,  1.,  2.,  2.,  2.,  2.,  6.,  1.,  0.,  2.,  2.,  6.,\n         2.,  2.,  4.,  1.,  1.,  3.,  2.,  1.,  4.,  2.,  0.,  5.,  4.,\n         5.,  3.,  2.,  0.,  3.,  3.,  4.,  1.,  2.,  5.,  7.,  4.,  6.,\n         2.,  9.,  1.,  1.,  6.,  2.,  3.,  3.,  5.,  1.,  5.,  4.,  6.,\n         6.,  5.,  8.,  8.,  3.,  6.,  3.,  4.,  3.,  3.,  2.,  3.,  4.,\n         2.,  4.,  0.,  6.,  2.,  2.,  1.,  2.,  1.,  6.,  2.,  2.,  0.,\n         0.,  3.,  1.,  0.,  0.,  4.,  0.,  1.,  0.,  0.,  2.,  1.,  0.,\n         2.,  1.,  2.,  2.,  2.,  1.,  0.,  1.,  0.,  0.,  0.,  1.,  1.,\n         2.,  0.,  0.,  4.,  1.,  0.,  1.,  0.,  0.,  0.,  0.,  0.,  1.,\n         0.,  0.,  0.,  0.,  0.,  0.,  0.,  1.,  0.,  0.,  0.,  0.,  1.,\n         0.,  0.,  0.,  0.,  0.,  0.,  0.,  0.,  0.,  0.,  0.,  0.,  0.,\n         0.,  0.,  0.,  0.,  0.,  0.,  0.,  0.,  0.,  0.,  0.,  0.,  0.,\n         0.,  0.,  0.,  0.,  0.,  0.,  0.,  0.,  0.,  0.,  0.,  0.,  0.,\n         0.,  0.,  0.,  0.,  2.]),\n array([0.   , 0.005, 0.01 , 0.015, 0.02 , 0.025, 0.03 , 0.035, 0.04 ,\n        0.045, 0.05 , 0.055, 0.06 , 0.065, 0.07 , 0.075, 0.08 , 0.085,\n        0.09 , 0.095, 0.1  , 0.105, 0.11 , 0.115, 0.12 , 0.125, 0.13 ,\n        0.135, 0.14 , 0.145, 0.15 , 0.155, 0.16 , 0.165, 0.17 , 0.175,\n        0.18 , 0.185, 0.19 , 0.195, 0.2  , 0.205, 0.21 , 0.215, 0.22 ,\n        0.225, 0.23 , 0.235, 0.24 , 0.245, 0.25 , 0.255, 0.26 , 0.265,\n        0.27 , 0.275, 0.28 , 0.285, 0.29 , 0.295, 0.3  , 0.305, 0.31 ,\n        0.315, 0.32 , 0.325, 0.33 , 0.335, 0.34 , 0.345, 0.35 , 0.355,\n        0.36 , 0.365, 0.37 , 0.375, 0.38 , 0.385, 0.39 , 0.395, 0.4  ,\n        0.405, 0.41 , 0.415, 0.42 , 0.425, 0.43 , 0.435, 0.44 , 0.445,\n        0.45 , 0.455, 0.46 , 0.465, 0.47 , 0.475, 0.48 , 0.485, 0.49 ,\n        0.495, 0.5  , 0.505, 0.51 , 0.515, 0.52 , 0.525, 0.53 , 0.535,\n        0.54 , 0.545, 0.55 , 0.555, 0.56 , 0.565, 0.57 , 0.575, 0.58 ,\n        0.585, 0.59 , 0.595, 0.6  , 0.605, 0.61 , 0.615, 0.62 , 0.625,\n        0.63 , 0.635, 0.64 , 0.645, 0.65 , 0.655, 0.66 , 0.665, 0.67 ,\n        0.675, 0.68 , 0.685, 0.69 , 0.695, 0.7  , 0.705, 0.71 , 0.715,\n        0.72 , 0.725, 0.73 , 0.735, 0.74 , 0.745, 0.75 , 0.755, 0.76 ,\n        0.765, 0.77 , 0.775, 0.78 , 0.785, 0.79 , 0.795, 0.8  , 0.805,\n        0.81 , 0.815, 0.82 , 0.825, 0.83 , 0.835, 0.84 , 0.845, 0.85 ,\n        0.855, 0.86 , 0.865, 0.87 , 0.875, 0.88 , 0.885, 0.89 , 0.895,\n        0.9  , 0.905, 0.91 , 0.915, 0.92 , 0.925, 0.93 , 0.935, 0.94 ,\n        0.945, 0.95 , 0.955, 0.96 , 0.965, 0.97 , 0.975, 0.98 , 0.985,\n        0.99 , 0.995, 1.   ]),\n <BarContainer object of 200 artists>)"
     },
     "execution_count": 9,
     "metadata": {},
     "output_type": "execute_result"
    },
    {
     "data": {
      "text/plain": "<Figure size 640x480 with 1 Axes>",
      "image/png": "[encoded data removed]"
     },
     "metadata": {},
     "output_type": "display_data"
    }
   ],
   "source": [
    "home_team = list(results.where(results['year'] > 2000)['home_team'].unique())\n",
    "away_team = list(results.where(results['year'] > 2000)['away_team'].unique())\n",
    "\n",
    "teams = set(home_team + away_team)\n",
    "\n",
    "vals = []\n",
    "\n",
    "for t in teams:\n",
    "    vals.append(win_percentage(t, 2000))\n",
    "\n",
    "fix, ax = plt.subplots()\n",
    "ax.hist(vals, bins=200)"
   ]
  },
  {
   "cell_type": "code",
   "execution_count": 10,
   "metadata": {},
   "outputs": [],
   "source": [
    "\"\"\"\n",
    "Team result\n",
    "\"\"\"\n",
    "\n",
    "teams = ['Portugal', 'England', 'Switzerland', 'Serbia', 'France', 'Italy', 'Spain', 'Finland', 'Iceland']\n",
    "\n",
    "for team in teams:\n",
    "    matches_home = results.loc[(results['home_team'] == team) & (results['year'] >= 2000)]\n",
    "    matches_away = results.loc[(results['away_team'] == team) & (results['year'] >= 2000)]\n",
    "\n",
    "    matches_home = matches_home.assign(goal_d = lambda x: x.home_score - x.away_score)\n",
    "    matches_away = matches_away.assign(goal_d = lambda x: x.away_score - x.home_score)\n",
    "\n",
    "    goals_difference = np.array(list(matches_home.goal_d) + list(matches_away.goal_d))\n",
    "    goals = np.array(list(matches_home.home_score) + list(matches_away.away_score))\n",
    "\n",
    "    # fix, ax = plt.subplots()\n",
    "    # ax.hist(goals, bins=10)"
   ]
  },
  {
   "cell_type": "code",
   "execution_count": 11,
   "metadata": {},
   "outputs": [
    {
     "name": "stdout",
     "output_type": "stream",
     "text": [
      "34\n",
      "50.0\n",
      "32.35294117647059\n",
      "17.647058823529413\n"
     ]
    }
   ],
   "source": [
    "team_a = 'England'\n",
    "team_b = 'France'\n",
    "\n",
    "matches = results.loc[(((results['home_team'] == team_a) & (results['away_team'] == team_b)) | ((results['home_team'] == team_b) & (results['away_team'] == team_a))) & (results['year'] >= 1900)]\n",
    "\n",
    "print(len(matches))\n",
    "\n",
    "team_a_wins = matches.loc[results['winner'] == team_a]\n",
    "team_b_wins = matches.loc[results['winner'] == team_b]\n",
    "draw = matches.loc[results['winner'] == 'Draw']\n",
    "\n",
    "print(len(team_a_wins)/len(matches) * 100)\n",
    "print(len(team_b_wins)/len(matches) * 100)\n",
    "print(len(draw)/len(matches) * 100)"
   ]
  },
  {
   "cell_type": "code",
   "execution_count": 12,
   "metadata": {},
   "outputs": [],
   "source": [
    "\"\"\"\n",
    "Average goals for a team\n",
    "\"\"\"\n",
    "\n",
    "team = 'France'\n",
    "\n",
    "home_games = results.loc[(results['home_team'] == team) & (results['year'] >= since)]\n",
    "away_games = results.loc[(results['away_team'] == team) & (results['year'] >= since)]\n",
    "\n",
    "goals_scored = list(home_games.home_score) + list(away_games.away_score)"
   ]
  },
  {
   "cell_type": "code",
   "execution_count": 13,
   "metadata": {},
   "outputs": [
    {
     "data": {
      "text/plain": "(array([3., 0., 6., 0., 7., 0., 3., 0., 3., 1.]),\n array([0. , 0.5, 1. , 1.5, 2. , 2.5, 3. , 3.5, 4. , 4.5, 5. ]),\n <BarContainer object of 10 artists>)"
     },
     "execution_count": 13,
     "metadata": {},
     "output_type": "execute_result"
    },
    {
     "data": {
      "text/plain": "<Figure size 640x480 with 1 Axes>",
      "image/png": "[encoded data removed]"
     },
     "metadata": {},
     "output_type": "display_data"
    }
   ],
   "source": [
    "fix, ax = plt.subplots()\n",
    "ax.hist(x = goals_scored, bins=10)"
   ]
  },
  {
   "cell_type": "code",
   "execution_count": 14,
   "metadata": {},
   "outputs": [
    {
     "name": "stdout",
     "output_type": "stream",
     "text": [
      "[]\n",
      "[]\n"
     ]
    }
   ],
   "source": [
    "\"\"\"\n",
    "Average goals for a team against another team\n",
    "\"\"\"\n",
    "\n",
    "team_a = 'Albania'\n",
    "team_b = 'Croatia'\n",
    "\n",
    "home = results.loc[(results['home_team'] == team_a) & (results['away_team'] == team_b) & (results['year'] >= 2010)]\n",
    "away = results.loc[(results['home_team'] == team_b) & (results['away_team'] == team_a) & (results['year'] >= 2010)]\n",
    "\n",
    "goals_team_a = np.array(list(home.home_score) + list(away.away_score))\n",
    "goals_team_b = np.array(list(home.away_score) + list(away.home_score))\n",
    "\n",
    "print(goals_team_a)\n",
    "print(goals_team_b)"
   ]
  },
  {
   "cell_type": "code",
   "execution_count": 15,
   "metadata": {},
   "outputs": [
    {
     "name": "stdout",
     "output_type": "stream",
     "text": [
      "Switzerland 1 : 2 France\n",
      "Switzerland 0 : 0 Spain\n",
      "Switzerland 0 : 1 England\n",
      "France 0 : 1 Spain\n",
      "France 1 : 1 England\n",
      "Spain 1 : 1 England\n"
     ]
    }
   ],
   "source": [
    "\"\"\"\n",
    "Working example\n",
    "\"\"\"\n",
    "from simulator import *\n",
    "\n",
    "teams = [\n",
    "    [\n",
    "        'Switzerland',\n",
    "        'France',\n",
    "        'Spain',\n",
    "        'England'\n",
    "    ]\n",
    "]\n",
    "\n",
    "s = Simulator(teams, results)\n",
    "\n",
    "s.simulate_group_stage()\n"
   ]
  },
  {
   "cell_type": "code",
   "execution_count": 16,
   "metadata": {},
   "outputs": [],
   "source": [
    "from trueskill import Rating, rate_1vs1, quality_1vs1"
   ]
  },
  {
   "cell_type": "code",
   "execution_count": 17,
   "metadata": {},
   "outputs": [
    {
     "name": "stdout",
     "output_type": "stream",
     "text": [
      "45\n",
      "47\n",
      "47\n",
      "48\n"
     ]
    }
   ],
   "source": [
    "team_rating = {}\n",
    "encountered_teams = []\n",
    "\n",
    "for group in teams:\n",
    "    for team in group:\n",
    "        team_rating[team] = Rating()\n",
    "        games = results.loc[((results['home_team'] == team) | (results['away_team'] == team)) & (results['year'] >= 2020)]\n",
    "        print(len(games))"
   ]
  },
  {
   "cell_type": "code",
   "execution_count": 18,
   "metadata": {},
   "outputs": [
    {
     "ename": "NameError",
     "evalue": "name 'ratings' is not defined",
     "output_type": "error",
     "traceback": [
      "\u001B[0;31m---------------------------------------------------------------------------\u001B[0m",
      "\u001B[0;31mNameError\u001B[0m                                 Traceback (most recent call last)",
      "Cell \u001B[0;32mIn[18], line 26\u001B[0m\n\u001B[1;32m     22\u001B[0m                 ratings[home_games[\u001B[38;5;124m'\u001B[39m\u001B[38;5;124maway_team\u001B[39m\u001B[38;5;124m'\u001B[39m][index]], ratings[team] \u001B[38;5;241m=\u001B[39m rate_1vs1(ratings[home_games[\u001B[38;5;124m'\u001B[39m\u001B[38;5;124maway_team\u001B[39m\u001B[38;5;124m'\u001B[39m][index]], ratings[team])\n\u001B[1;32m     23\u001B[0m     \u001B[38;5;28;01mreturn\u001B[39;00m ratings\n\u001B[0;32m---> 26\u001B[0m \u001B[38;5;28mprint\u001B[39m(\u001B[43mratings\u001B[49m[\u001B[38;5;124m'\u001B[39m\u001B[38;5;124mFrance\u001B[39m\u001B[38;5;124m'\u001B[39m])\n\u001B[1;32m     27\u001B[0m \u001B[38;5;28mprint\u001B[39m(ratings[\u001B[38;5;124m'\u001B[39m\u001B[38;5;124mSwitzerland\u001B[39m\u001B[38;5;124m'\u001B[39m])\n\u001B[1;32m     28\u001B[0m \u001B[38;5;28mprint\u001B[39m(ratings[\u001B[38;5;124m'\u001B[39m\u001B[38;5;124mAlbania\u001B[39m\u001B[38;5;124m'\u001B[39m])\n",
      "\u001B[0;31mNameError\u001B[0m: name 'ratings' is not defined"
     ]
    }
   ],
   "source": [
    "home_teams = results['home_team'].unique()\n",
    "away_teams = results['away_team'].unique()\n",
    "\n",
    "def get_ratings():\n",
    "    all_teams = list(set(home_team + away_team))\n",
    "\n",
    "    ratings = {team: Rating() for team in all_teams}\n",
    "\n",
    "    for team in all_teams:\n",
    "\n",
    "        home_games = results.loc[(results['home_team'] == team) & (results['year'] >= 2020)]\n",
    "\n",
    "        for index in home_games.index:\n",
    "\n",
    "            if(home_games['winner'][index] == 'Draw'):\n",
    "                ratings[team], ratings[home_games['away_team'][index]] = rate_1vs1(ratings[team], ratings[home_games['away_team'][index]], drawn=True)\n",
    "\n",
    "            elif(team == home_games['winner'][index]):\n",
    "                ratings[team], ratings[home_games['away_team'][index]] = rate_1vs1(ratings[team], ratings[home_games['away_team'][index]])\n",
    "\n",
    "            else:\n",
    "                ratings[home_games['away_team'][index]], ratings[team] = rate_1vs1(ratings[home_games['away_team'][index]], ratings[team])\n",
    "    return ratings\n",
    "\n",
    "\n",
    "print(ratings['France'])\n",
    "print(ratings['Switzerland'])\n",
    "print(ratings['Albania'])\n",
    "\n",
    "print(ratings)\n",
    "\n",
    "print(quality_1vs1(ratings['France'], ratings['Portugal']))"
   ]
  },
  {
   "cell_type": "code",
   "execution_count": 19,
   "metadata": {},
   "outputs": [],
   "source": [
    "import numpy as np\n",
    "import itertools\n",
    "from scipy import stats\n",
    "from math import sqrt\n",
    "from trueskill import BETA\n",
    "from trueskill.backends import cdf\n",
    "\n",
    "class Simulator:\n",
    "    def __init__(self, groups: list, ratings: dict):\n",
    "        self.groups = groups\n",
    "        self.ratings = ratings\n",
    "\n",
    "    def win_probability(self, player_rating, opponent_rating):\n",
    "        delta_mu = player_rating.mu - opponent_rating.mu\n",
    "        denom = sqrt(2 * (BETA * BETA) + pow(player_rating.sigma, 2) + pow(opponent_rating.sigma, 2))\n",
    "        return cdf(delta_mu / denom)\n",
    "    \n",
    "    def simulate_game(self, team_a, team_b, group_index):\n",
    "        \n",
    "        draw_prob = quality_1vs1(self.ratings[team_a], self.ratings[team_b])\n",
    "        win_a_prob = self.win_probability(self.ratings[team_a], self.ratings[team_b])\n",
    "\n",
    "        draw = False\n",
    "        if draw_prob > 0.9:\n",
    "            draw = np.random.choice([True, False])\n",
    "\n",
    "        if draw:\n",
    "            self.ratings[team_a], self.ratings[team_b] = rate_1vs1(self.ratings[team_a], self.ratings[team_b], drawn=True)\n",
    "            self.groups[group_index][team_a] += 1\n",
    "            self.groups[group_index][team_b] += 1\n",
    "        else :\n",
    "            if win_a_prob - np.random.random() >= 0:\n",
    "                self.ratings[team_a], self.ratings[team_b] = rate_1vs1(self.ratings[team_a], self.ratings[team_b])\n",
    "                self.groups[group_index][team_a] += 3\n",
    "            else:\n",
    "                self.ratings[team_a], self.ratings[team_b] = rate_1vs1(self.ratings[team_a], self.ratings[team_b])\n",
    "                self.groups[group_index][team_b] += 3\n",
    "\n",
    "    def simulate_final_game(self, team_a, team_b):\n",
    "        win_a_prob = self.win_probability(self.ratings[team_a], self.ratings[team_b])\n",
    "\n",
    "        if win_a_prob - np.random.random() >= 0:\n",
    "            return team_a\n",
    "        else:\n",
    "            return team_b\n",
    "\n",
    "\n",
    "    def simulate_group_stage(self):\n",
    "        for group in self.groups:\n",
    "            teams = [team for team in group.keys()] # Get dict keys in list of dict\n",
    "            games = list(itertools.combinations(teams, 2))\n",
    "            for game in games:\n",
    "                team_a, team_b = game\n",
    "                self.simulate_game(team_a, team_b, self.groups.index(group))\n",
    "\n",
    "    def create_8th_final_games(self):\n",
    "        qualified = [list(group.keys())[:3] for group in self.groups]\n",
    "\n",
    "        # A = 0\n",
    "        # B = 1\n",
    "        # C = 2\n",
    "        # D = 3\n",
    "        # E = 4\n",
    "        # F = 5\n",
    "\n",
    "        return [\n",
    "            (qualified[1][0], qualified[0][2]),\n",
    "            (qualified[0][0], qualified[2][1]),\n",
    "            (qualified[5][0], qualified[1][2]),\n",
    "            (qualified[3][1], qualified[4][1]),\n",
    "            (qualified[4][0], qualified[2][2]),\n",
    "            (qualified[3][0], qualified[5][1]),\n",
    "            (qualified[2][0], qualified[3][2]),\n",
    "            (qualified[0][1], qualified[1][1])\n",
    "        ]\n",
    "        \n",
    "    def play_final_phase(self, games: list[tuple]):\n",
    "        next = games\n",
    "\n",
    "        while len(next) >= 1:\n",
    "            winners = []\n",
    "            for team_a, team_b in next:\n",
    "                winner = self.simulate_final_game(team_a, team_b)\n",
    "\n",
    "                winners.append(winner)\n",
    "\n",
    "            next = list(zip(winners[::2], winners[1::2]))\n",
    "            #print(winners)\n",
    "            if len(winners) == 1:\n",
    "                return winners\n",
    "\n",
    "\n",
    "\n",
    "\n",
    "    def simulate_euro(self):\n",
    "        self.simulate_group_stage()\n",
    "\n",
    "        for i in range(len(self.groups)):\n",
    "            group = self.groups[i]\n",
    "            self.groups[i] = dict(sorted(group.items(), key=lambda x: x[1], reverse=True))\n",
    "        \n",
    "        games_8th_final = self.create_8th_final_games()\n",
    "\n",
    "        return self.play_final_phase(games_8th_final)\n",
    "\n"
   ]
  },
  {
   "cell_type": "code",
   "execution_count": 20,
   "metadata": {},
   "outputs": [],
   "source": [
    "groups = [\n",
    "    {\n",
    "        'Germany': 0,\n",
    "        'Scotland': 0,\n",
    "        'Hungary': 0,\n",
    "        'Switzerland': 0,\n",
    "    },\n",
    "    {\n",
    "        'Spain': 0,\n",
    "        'Croatia': 0,\n",
    "        'Italy': 0,\n",
    "        'Albania': 0,\n",
    "    },\n",
    "    {\n",
    "        'Slovenia': 0,\n",
    "        'Denmark': 0,\n",
    "        'Serbia': 0,\n",
    "        'England': 0,\n",
    "    },\n",
    "    {\n",
    "        'Netherlands': 0,\n",
    "        'Austria': 0,\n",
    "        'France': 0,\n",
    "        'Poland': 0,\n",
    "    },\n",
    "    {\n",
    "        'Belgium': 0,\n",
    "        'Slovakia': 0,\n",
    "        'Romania': 0,\n",
    "        'Iceland': 0,\n",
    "    },\n",
    "    {\n",
    "        'Turkey': 0,\n",
    "        'Portugal': 0,\n",
    "        'Czech Republic': 0,\n",
    "        'Greece': 0,\n",
    "    },\n",
    "]\n",
    "\n",
    "s = Simulator(groups=groups, ratings=get_ratings())\n"
   ]
  },
  {
   "cell_type": "code",
   "execution_count": null,
   "outputs": [],
   "source": [
    "nb_iter = 500\n",
    "stat_team = {\n",
    "        'Germany': 0,\n",
    "        'Scotland': 0,\n",
    "        'Hungary': 0,\n",
    "        'Switzerland': 0,\n",
    "        'Spain': 0,\n",
    "        'Croatia': 0,\n",
    "        'Italy': 0,\n",
    "        'Albania': 0,\n",
    "        'Slovenia': 0,\n",
    "        'Denmark': 0,\n",
    "        'Serbia': 0,\n",
    "        'England': 0,\n",
    "        'Netherlands': 0,\n",
    "        'Austria': 0,\n",
    "        'France': 0,\n",
    "        'Poland': 0,\n",
    "        'Belgium': 0,\n",
    "        'Slovakia': 0,\n",
    "        'Romania': 0,\n",
    "        'Iceland': 0,\n",
    "        'Turkey': 0,\n",
    "        'Portugal': 0,\n",
    "        'Czech Republic': 0,\n",
    "        'Greece': 0,\n",
    "    }\n",
    "for i in range(nb_iter):\n",
    "    winner = s.simulate_euro()[0]\n",
    "    stat_team[winner] += 1/nb_iter  *100\n",
    "    stat_team[winner] = stat_team[winner].__round__(2)\n",
    "    #print(f\"Winner: {winner}\\n\"\n",
    "    #      f\"stat: {stat_team[winner].__round__(2)}\\n\"\n",
    "    #      f\"Add: {round(1/nb_iter  *100, 1)}\\n\"\n",
    "    #      f\"------------------\")\n",
    "\n",
    "#for team in stat_team.keys():\n",
    "#    stat_team[team] = round(stat_team[team] /nb_iter  *100, 3)\n",
    "\n",
    "print(dict(sorted(stat_team.items(), key=lambda x: x[1], reverse=True)))"
   ],
   "metadata": {
    "collapsed": false,
    "pycharm": {
     "is_executing": true
    }
   }
  },
  {
   "cell_type": "code",
   "execution_count": 86,
   "outputs": [
    {
     "name": "stdout",
     "output_type": "stream",
     "text": [
      "100.00000000000001\n"
     ]
    }
   ],
   "source": [
    "print(sum(stat_team.values()))"
   ],
   "metadata": {
    "collapsed": false
   }
  },
  {
   "cell_type": "code",
   "execution_count": 93,
   "outputs": [
    {
     "name": "stdout",
     "output_type": "stream",
     "text": [
      "dict_values([[22.83], [21.12], [13.9], [10.52], [6.65], [5.7], [5.5], [4.57], [3.1], [1.62], [1.58], [0.97], [0.73], [0.67], [0.35], [0.08], [0.08], [0.03], [0.0], [0.0], [0.0], [0.0], [0.0], [0.0]])\n"
     ]
    }
   ],
   "source": [
    "results = {'France': [22.83], 'Portugal': [21.12], 'England': [13.9], 'Spain': [10.52], 'Belgium': [6.65], 'Denmark': [5.7], 'Netherlands': [5.5], 'Italy': [4.57], 'Germany': [3.1], 'Croatia': [1.62], 'Hungary': [1.58], 'Austria': [0.97], 'Czech Republic': [0.73], 'Serbia': [0.67], 'Scotland': [0.35], 'Switzerland': [0.08], 'Slovakia': [0.08], 'Turkey': [0.03], 'Albania': [0.0], 'Slovenia': [0.0], 'Poland': [0.0], 'Romania': [0.0], 'Iceland': [0.0], 'Greece': [0.0]}\n",
    "# print(len(list(mcolors.CSS4_COLORS)))\n",
    "#name_colors = sorted(mcolors.CSS4_COLORS, key=lambda c: tuple(mcolors.rgb_to_hsv(mcolors.to_rgb(c))))\n",
    "#colors = [name_colors[i] for i in range(len(results.keys()))]\n",
    "\n",
    "colors = [(0, 1-i, i) for i in np.arange(0,1,1/len(results.keys()))]\n",
    "print(results)"
   ],
   "metadata": {
    "collapsed": false
   }
  },
  {
   "cell_type": "code",
   "execution_count": 97,
   "outputs": [
    {
     "data": {
      "text/plain": "<Figure size 1000x500 with 1 Axes>",
      "image/png": "[encoded data removed]"
     },
     "metadata": {},
     "output_type": "display_data"
    }
   ],
   "source": [
    "fig, ax = plt.subplots(layout='constrained', figsize=(10, 5))\n",
    "rects = ax.bar(results.keys(), [a[0] for a in results.values()], color=colors)\n",
    "ax.bar_label(rects, [a[0] for a in results.values()])\n",
    "ax.set_ylabel('Percent of tournament won ')\n",
    "ax.set_title('Percent of tournaments won over 6\\'000 simulations')\n",
    "ax.tick_params(axis='x', rotation=90)\n",
    "plt.savefig('results.png')"
   ],
   "metadata": {
    "collapsed": false
   }
  },
  {
   "cell_type": "code",
   "execution_count": 99,
   "outputs": [
    {
     "data": {
      "text/plain": "   France  Portugal  England  Spain  Belgium  Denmark  Netherlands  Italy  \\\n0   22.83     21.12     13.9  10.52     6.65      5.7          5.5   4.57   \n\n   Germany  Croatia  ...  Scotland  Switzerland  Slovakia  Turkey  Albania  \\\n0      3.1     1.62  ...      0.35         0.08      0.08    0.03      0.0   \n\n   Slovenia  Poland  Romania  Iceland  Greece  \n0       0.0     0.0      0.0      0.0     0.0  \n\n[1 rows x 24 columns]",
      "text/html": "<div>\n<style scoped>\n    .dataframe tbody tr th:only-of-type {\n        vertical-align: middle;\n    }\n\n    .dataframe tbody tr th {\n        vertical-align: top;\n    }\n\n    .dataframe thead th {\n        text-align: right;\n    }\n</style>\n<table border=\"1\" class=\"dataframe\">\n  <thead>\n    <tr style=\"text-align: right;\">\n      <th></th>\n      <th>France</th>\n      <th>Portugal</th>\n      <th>England</th>\n      <th>Spain</th>\n      <th>Belgium</th>\n      <th>Denmark</th>\n      <th>Netherlands</th>\n      <th>Italy</th>\n      <th>Germany</th>\n      <th>Croatia</th>\n      <th>...</th>\n      <th>Scotland</th>\n      <th>Switzerland</th>\n      <th>Slovakia</th>\n      <th>Turkey</th>\n      <th>Albania</th>\n      <th>Slovenia</th>\n      <th>Poland</th>\n      <th>Romania</th>\n      <th>Iceland</th>\n      <th>Greece</th>\n    </tr>\n  </thead>\n  <tbody>\n    <tr>\n      <th>0</th>\n      <td>22.83</td>\n      <td>21.12</td>\n      <td>13.9</td>\n      <td>10.52</td>\n      <td>6.65</td>\n      <td>5.7</td>\n      <td>5.5</td>\n      <td>4.57</td>\n      <td>3.1</td>\n      <td>1.62</td>\n      <td>...</td>\n      <td>0.35</td>\n      <td>0.08</td>\n      <td>0.08</td>\n      <td>0.03</td>\n      <td>0.0</td>\n      <td>0.0</td>\n      <td>0.0</td>\n      <td>0.0</td>\n      <td>0.0</td>\n      <td>0.0</td>\n    </tr>\n  </tbody>\n</table>\n<p>1 rows × 24 columns</p>\n</div>"
     },
     "execution_count": 99,
     "metadata": {},
     "output_type": "execute_result"
    }
   ],
   "source": [
    "\n",
    "df = pd.DataFrame(results)\n",
    "df"
   ],
   "metadata": {
    "collapsed": false
   }
  },
  {
   "cell_type": "code",
   "execution_count": null,
   "outputs": [],
   "source": [],
   "metadata": {
    "collapsed": false
   }
  }
 ],
 "metadata": {
  "kernelspec": {
   "display_name": "Python 3",
   "language": "python",
   "name": "python3"
  },
  "language_info": {
   "codemirror_mode": {
    "name": "ipython",
    "version": 3
   },
   "file_extension": ".py",
   "mimetype": "text/x-python",
   "name": "python",
   "nbconvert_exporter": "python",
   "pygments_lexer": "ipython3",
   "version": "3.10.7"
  },
  "orig_nbformat": 4
 },
 "nbformat": 4,
 "nbformat_minor": 2
}
